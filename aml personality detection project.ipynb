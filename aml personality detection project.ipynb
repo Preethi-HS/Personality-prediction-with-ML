{
 "cells": [
  {
   "cell_type": "code",
   "execution_count": 22,
   "id": "689f7794",
   "metadata": {},
   "outputs": [],
   "source": [
    "import tkinter as tk\n",
    "from tkinter import messagebox\n",
    "from sklearn.tree import DecisionTreeClassifier"
   ]
  },
  {
   "cell_type": "code",
   "execution_count": 23,
   "id": "3603bb83",
   "metadata": {},
   "outputs": [],
   "source": [
    "data=[\n",
    "      ('introvert',[3,2,1,4]),\n",
    "      ('extrovert',[1,4,3,2]),\n",
    "      ('ambivert',[2,3,2,3]),\n",
    "     ]"
   ]
  },
  {
   "cell_type": "code",
   "execution_count": 24,
   "id": "6c1952af",
   "metadata": {},
   "outputs": [],
   "source": [
    "def train_model():\n",
    "    global dtc\n",
    "    features=[d[1] for d in data]\n",
    "    personalities=[d[0] for d in data]\n",
    "    dtc=DecisionTreeClassifier()\n",
    "    dtc.fit(features,personalities)"
   ]
  },
  {
   "cell_type": "code",
   "execution_count": 25,
   "id": "334919be",
   "metadata": {},
   "outputs": [],
   "source": [
    "def predict_personality():\n",
    "    try:\n",
    "        q1=int(entry_q1.get())\n",
    "        q2=int(entry_q2.get())\n",
    "        q3=int(entry_q3.get())\n",
    "        q4=int(entry_q4.get())\n",
    "        prediction=dtc.predict([[q1,q2,q3,q4]])[0]\n",
    "        messagebox.showinfo(\"personality prediction\",f\"predicted personality:{prediction}\")\n",
    "    except ValueError:\n",
    "        messagebox.showerror(\"error\",\"please enter valid integer value for all questions\")"
   ]
  },
  {
   "cell_type": "code",
   "execution_count": 26,
   "id": "94d645ea",
   "metadata": {},
   "outputs": [
    {
     "data": {
      "text/plain": [
       "''"
      ]
     },
     "execution_count": 26,
     "metadata": {},
     "output_type": "execute_result"
    }
   ],
   "source": [
    "root=tk.Tk()\n",
    "root.title(\"personality prediction\")"
   ]
  },
  {
   "cell_type": "code",
   "execution_count": 27,
   "id": "57c89b0f",
   "metadata": {},
   "outputs": [],
   "source": [
    "train_model()"
   ]
  },
  {
   "cell_type": "code",
   "execution_count": 28,
   "id": "1a5eb733",
   "metadata": {},
   "outputs": [],
   "source": [
    "questions = [\"Question 1: How often do you prefer being alone? (1-5)\",\n",
    "             \"Question 2: How comfortable are you in social situations? (1-5)\",\n",
    "             \"Question 3: How adventurous are you? (1-5)\",\n",
    "             \"Question 4: How well do you handle stress? (1-5)\"]"
   ]
  },
  {
   "cell_type": "code",
   "execution_count": 19,
   "id": "f4df603a",
   "metadata": {},
   "outputs": [],
   "source": [
    "for i,question in enumerate(questions):\n",
    "    tk.Label(root,text=question).grid(row=i,column=0)\n",
    "    entry=tk.Entry(root)\n",
    "    entry.grid(row=i,column=1)\n",
    "    if i==0:\n",
    "        entry_q1=entry\n",
    "    elif i==1:\n",
    "         entry_q2 = entry\n",
    "    elif i == 2:\n",
    "        entry_q3 = entry\n",
    "    elif i == 3:\n",
    "        entry_q4 = entry\n",
    "    else:\n",
    "        print(\"Invalid input, please enter numbers between 1-5\")\n",
    "\n",
    "        "
   ]
  },
  {
   "cell_type": "code",
   "execution_count": 20,
   "id": "037de856",
   "metadata": {},
   "outputs": [],
   "source": [
    "# Create the \"Predict\" button\n",
    "predict_button = tk.Button(root, text=\"Predict Personality\", command=predict_personality)\n",
    "predict_button.grid(row=len(questions), columnspan=2)"
   ]
  },
  {
   "cell_type": "code",
   "execution_count": 21,
   "id": "0bca5550",
   "metadata": {},
   "outputs": [],
   "source": [
    "# Start the main event loop\n",
    "root.mainloop()\n"
   ]
  },
  {
   "cell_type": "code",
   "execution_count": null,
   "id": "d7faa341",
   "metadata": {},
   "outputs": [],
   "source": []
  }
 ],
 "metadata": {
  "kernelspec": {
   "display_name": "Python 3 (ipykernel)",
   "language": "python",
   "name": "python3"
  },
  "language_info": {
   "codemirror_mode": {
    "name": "ipython",
    "version": 3
   },
   "file_extension": ".py",
   "mimetype": "text/x-python",
   "name": "python",
   "nbconvert_exporter": "python",
   "pygments_lexer": "ipython3",
   "version": "3.11.2"
  }
 },
 "nbformat": 4,
 "nbformat_minor": 5
}
